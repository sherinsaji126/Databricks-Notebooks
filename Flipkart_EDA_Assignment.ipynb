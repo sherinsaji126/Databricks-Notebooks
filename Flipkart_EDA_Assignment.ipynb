{
 "cells": [
  {
   "cell_type": "markdown",
   "metadata": {
    "application/vnd.databricks.v1+cell": {
     "cellMetadata": {
      "byteLimit": 2048000,
      "rowLimit": 10000
     },
     "inputWidgets": {},
     "nuid": "ff039c57-72fa-4f8a-9d6b-98a8b631bc65",
     "showTitle": false,
     "tableResultSettingsMap": {},
     "title": ""
    }
   },
   "source": [
    "# Flipkart EDA assignment\n",
    "\n",
    "## TODO: Upload csv file before moving to next"
   ]
  },
  {
   "cell_type": "code",
   "execution_count": 0,
   "metadata": {
    "application/vnd.databricks.v1+cell": {
     "cellMetadata": {
      "byteLimit": 2048000,
      "rowLimit": 10000
     },
     "inputWidgets": {},
     "nuid": "f85ef81f-2729-4c6f-9e71-f6bc1b6a2e16",
     "showTitle": false,
     "tableResultSettingsMap": {},
     "title": ""
    }
   },
   "outputs": [],
   "source": [
    "from pyspark.sql import SparkSession\n",
    "\n",
    "spark = SparkSession.builder.appName(\"Flipkart Data Engineering\").getOrCreate()\n",
    "file_path = '/FileStore/tables/Flipkart.csv' # it should path from dbfs or the full url\n",
    "flipkart_df = spark.read.csv(file_path, header=True, inferSchema=True)"
   ]
  },
  {
   "cell_type": "code",
   "execution_count": 0,
   "metadata": {
    "application/vnd.databricks.v1+cell": {
     "cellMetadata": {
      "byteLimit": 2048000,
      "rowLimit": 10000
     },
     "inputWidgets": {},
     "nuid": "04e1f417-47f7-4c0f-9705-565eda51063a",
     "showTitle": false,
     "tableResultSettingsMap": {},
     "title": ""
    }
   },
   "outputs": [
    {
     "output_type": "stream",
     "name": "stdout",
     "output_type": "stream",
     "text": [
      "root\n |-- id: integer (nullable = true)\n |-- title: string (nullable = true)\n |-- Rating: double (nullable = true)\n |-- maincateg: string (nullable = true)\n |-- platform: string (nullable = true)\n |-- actprice1: integer (nullable = true)\n |-- norating1: integer (nullable = true)\n |-- noreviews1: integer (nullable = true)\n |-- star_5f: integer (nullable = true)\n |-- star_4f: integer (nullable = true)\n |-- star_3f: integer (nullable = true)\n |-- star_2f: integer (nullable = true)\n |-- star_1f: integer (nullable = true)\n |-- fulfilled1: integer (nullable = true)\n\nOut[4]: 5244"
     ]
    }
   ],
   "source": [
    "flipkart_df.printSchema()\n",
    "flipkart_df.count()"
   ]
  },
  {
   "cell_type": "code",
   "execution_count": 0,
   "metadata": {
    "application/vnd.databricks.v1+cell": {
     "cellMetadata": {
      "byteLimit": 2048000,
      "rowLimit": 10000
     },
     "inputWidgets": {},
     "nuid": "da7dcb8e-203d-406c-85ba-35260e705574",
     "showTitle": false,
     "tableResultSettingsMap": {},
     "title": ""
    }
   },
   "outputs": [
    {
     "output_type": "stream",
     "name": "stdout",
     "output_type": "stream",
     "text": [
      "+-----+--------------------+------+---------+--------+---------+---------+----------+-------+-------+-------+-------+-------+----------+\n|   id|               title|Rating|maincateg|platform|actprice1|norating1|noreviews1|star_5f|star_4f|star_3f|star_2f|star_1f|fulfilled1|\n+-----+--------------------+------+---------+--------+---------+---------+----------+-------+-------+-------+-------+-------+----------+\n| 2242|Casuals For Men  ...|   3.8|      Men|Flipkart|      999|    27928|      3543|  14238|   4295|   3457|   1962|   3976|         1|\n|20532|Women Black Flats...|   3.9|    Women|Flipkart|      499|     3015|       404|   1458|    657|    397|    182|    321|         1|\n|10648|Women Gold Wedges...|   3.9|    Women|Flipkart|      999|      449|        52|    229|     70|     71|     33|     46|         1|\n|20677|Men's Height Incr...|   3.9|      Men|Flipkart|     2999|      290|        40|    141|     51|     49|     17|     32|         1|\n|12593|Loafers For Men  ...|   3.9|      Men|Flipkart|      999|     2423|       326|   1265|    414|    293|    143|    308|         0|\n+-----+--------------------+------+---------+--------+---------+---------+----------+-------+-------+-------+-------+-------+----------+\nonly showing top 5 rows\n\n"
     ]
    }
   ],
   "source": [
    "flipkart_df.show(5)"
   ]
  },
  {
   "cell_type": "markdown",
   "metadata": {
    "application/vnd.databricks.v1+cell": {
     "cellMetadata": {
      "byteLimit": 2048000,
      "rowLimit": 10000
     },
     "inputWidgets": {},
     "nuid": "081f82e7-1600-4a4e-b03a-fbd7503b0cbc",
     "showTitle": false,
     "tableResultSettingsMap": {},
     "title": ""
    }
   },
   "source": []
  },
  {
   "cell_type": "code",
   "execution_count": 0,
   "metadata": {
    "application/vnd.databricks.v1+cell": {
     "cellMetadata": {
      "byteLimit": 2048000,
      "rowLimit": 10000
     },
     "inputWidgets": {},
     "nuid": "073d6b31-c900-41a6-aa3f-ae38495448b8",
     "showTitle": false,
     "tableResultSettingsMap": {},
     "title": ""
    }
   },
   "outputs": [
    {
     "output_type": "stream",
     "name": "stdout",
     "output_type": "stream",
     "text": [
      "+---------+\n|maincateg|\n+---------+\n|     null|\n|      Men|\n|    Women|\n+---------+\n\n"
     ]
    }
   ],
   "source": [
    "# Display all category names\n",
    "\n",
    "flipkart_df.select(\"maincateg\").distinct().show()"
   ]
  },
  {
   "cell_type": "code",
   "execution_count": 0,
   "metadata": {
    "application/vnd.databricks.v1+cell": {
     "cellMetadata": {
      "byteLimit": 2048000,
      "rowLimit": 10000
     },
     "inputWidgets": {},
     "nuid": "bce154ae-ea22-4e83-aa68-a50e89a41a8c",
     "showTitle": false,
     "tableResultSettingsMap": {},
     "title": ""
    }
   },
   "outputs": [
    {
     "output_type": "stream",
     "name": "stdout",
     "output_type": "stream",
     "text": [
      "+-----+--------------------+------+---------+--------+---------+---------+----------+-------+-------+-------+-------+-------+----------+\n|   id|               title|Rating|maincateg|platform|actprice1|norating1|noreviews1|star_5f|star_4f|star_3f|star_2f|star_1f|fulfilled1|\n+-----+--------------------+------+---------+--------+---------+---------+----------+-------+-------+-------+-------+-------+----------+\n|13859|Women Black Wedge...|   4.2|    Women|Flipkart|      279|     3048|       487|   1746|    679|    348|    114|    161|         1|\n|19453|Denill Ankle Leng...|   4.1|    Women|Flipkart|      999|     6806|       961|   3646|   1508|    810|    335|    510|         1|\n| 3205|     SFG-23 Slippers|   4.1|      Men|Flipkart|      319|    12936|      1598|   7030|   2850|   1453|    587|   1016|         1|\n| 7625|White casual, gym...|   4.2|      Men|Flipkart|      999|     2430|       381|   1472|    397|    251|    105|    205|         0|\n|17791|Synthetic Leather...|   4.2|    Women|Flipkart|     1399|     1256|       182|    791|    212|    114|     43|     96|         1|\n|15762|Running Shoes For...|   4.1|      Men|Flipkart|      999|    57372|      8254|  32715|  10686|   6362|   2806|   4803|         0|\n|15247|SM-484 Casuals Fo...|   4.2|      Men|Flipkart|     1399|     2958|       436|   1685|    736|    259|    107|    171|         0|\n|20247|Women Black Heels...|   4.1|    Women|Flipkart|      999|     1052|       182|    568|    248|    121|     45|     70|         1|\n|10655|Women Brown Wedge...|   4.1|    Women|Flipkart|      999|     1029|       178|    563|    228|    108|     49|     79|         1|\n|20918|GO WALK 5-SPARROW...|   4.3|      Men|Flipkart|     4999|     1057|       106|    664|    206|     75|     40|     72|         1|\n|16193|crocs Unisex's Ra...|   4.3|    Women|  Amazon|      995|        1|       661|      8|      2|      7|     20|     62|         1|\n| 8485|Men Grey Clogs Sa...|   4.1|      Men|Flipkart|      849|     1675|       328|    870|    466|    166|     60|    113|         0|\n| 7561|Men Navy Sports S...|   4.2|      Men|Flipkart|      499|    17035|      2103|   9223|   4219|   1888|    614|   1091|         1|\n| 9249|Women Black Wedge...|   4.2|    Women|Flipkart|      279|     3049|       487|   1745|    679|    348|    114|    161|         1|\n|20597|Sneakers For Men ...|   4.1|      Men|Flipkart|      999|     4489|       597|   2673|    639|    446|    263|    468|         1|\n|11078|Men Black Clogs S...|   4.2|      Men|Flipkart|     2995|    12390|      1098|   6891|   3100|   1035|    429|    935|         1|\n|13151|Walking Shoes For...|   4.1|    Women|Flipkart|      999|     7100|       938|   3644|   1706|    930|    352|    468|         1|\n|15716|Mojaris For Men  ...|   4.1|      Men|Flipkart|      999|      949|       106|    517|    190|    116|     47|     79|         1|\n|20324|Women Pink Wedges...|   4.2|    Women|Flipkart|      999|     1797|       232|   1000|    413|    205|     83|     96|         0|\n| 8184|              Slides|   4.1|    Women|Flipkart|      499|      872|       141|    459|    210|     89|     47|     67|         1|\n+-----+--------------------+------+---------+--------+---------+---------+----------+-------+-------+-------+-------+-------+----------+\nonly showing top 20 rows\n\n"
     ]
    }
   ],
   "source": [
    "# Filter products with rating > 4.5 and more than 1000 reviews\n",
    "\n",
    "flipkart_df.filter((flipkart_df[\"Rating\"]>4.0) & (flipkart_df[\"noreviews1\"]>100)).show()"
   ]
  },
  {
   "cell_type": "code",
   "execution_count": 0,
   "metadata": {
    "application/vnd.databricks.v1+cell": {
     "cellMetadata": {
      "byteLimit": 2048000,
      "rowLimit": 10000
     },
     "inputWidgets": {},
     "nuid": "5ea8891d-773f-432e-a72e-4692bd97fc47",
     "showTitle": false,
     "tableResultSettingsMap": {},
     "title": ""
    }
   },
   "outputs": [
    {
     "output_type": "stream",
     "name": "stdout",
     "output_type": "stream",
     "text": [
      "+-----+--------------------+------+---------+--------+---------+---------+----------+-------+-------+-------+-------+-------+----------+\n|   id|               title|Rating|maincateg|platform|actprice1|norating1|noreviews1|star_5f|star_4f|star_3f|star_2f|star_1f|fulfilled1|\n+-----+--------------------+------+---------+--------+---------+---------+----------+-------+-------+-------+-------+-------+----------+\n| 2242|Casuals For Men  ...|   3.8|      Men|Flipkart|      999|    27928|      3543|  14238|   4295|   3457|   1962|   3976|         1|\n|20677|Men's Height Incr...|   3.9|      Men|Flipkart|     2999|      290|        40|    141|     51|     49|     17|     32|         1|\n|10680|Combo Pack Of 2 C...|   3.9|      Men|Flipkart|     2400|      824|       105|    386|    199|    106|     61|     72|         1|\n|11579|MOCCASSIN Slip On...|   3.8|      Men|Flipkart|     2299|     3066|       392|   1304|    803|    462|    189|    308|         1|\n|12260|Long OfficeWear C...|   3.9|      Men|Flipkart|      999|    14247|      2102|   6921|   2924|   1976|    882|   1544|         1|\n| 3205|     SFG-23 Slippers|   4.1|      Men|Flipkart|      319|    12936|      1598|   7030|   2850|   1453|    587|   1016|         1|\n|14489|Dark Brown Leathe...|   3.9|      Men|Flipkart|      599|      374|        55|    182|     75|     58|     20|     39|         1|\n|10206|Long OfficeWear C...|   3.9|      Men|Flipkart|      999|    14253|      2103|   6924|   2925|   1977|    883|   1544|         1|\n| 8920|Monk Strap For Me...|   4.2|      Men|Flipkart|     4595|      498|        58|    281|    116|     44|     23|     34|         1|\n| 9762|    Men Brown Sandal|   4.6|      Men|Flipkart|      349|       20|         2|     14|      4|      2|      0|      0|         1|\n|14490|Men Hawaii Flip F...|   3.7|      Men|Flipkart|      499|    13702|      1813|   6200|   2605|   1898|   1075|   1924|         1|\n|15546|Men Blue Clogs Sa...|   3.7|      Men|Flipkart|     1299|     3691|       427|   1577|    813|    535|    264|    502|         1|\n|10068|Java 2 IDP Flip F...|   4.1|      Men|Flipkart|     2299|      679|        61|    398|    135|     54|     31|     61|         1|\n| 6052|Derby For Men  (B...|   2.8|      Men|Flipkart|     4999|       22|         1|      7|      1|      2|      5|      7|         1|\n|11469|Combo pack of 2 s...|   3.6|      Men|Flipkart|      998|    24420|      2783|  11438|   3155|   3005|   2330|   4492|         1|\n|20918|GO WALK 5-SPARROW...|   4.3|      Men|Flipkart|     4999|     1057|       106|    664|    206|     75|     40|     72|         1|\n| 2592|Genuine Leather F...|   3.9|      Men|Flipkart|     2999|      383|        54|    187|     81|     46|     21|     48|         1|\n|14541|Genuine Leather F...|   3.9|      Men|Flipkart|     2999|      383|        54|    187|     81|     46|     21|     48|         1|\n| 7561|Men Navy Sports S...|   4.2|      Men|Flipkart|      499|    17035|      2103|   9223|   4219|   1888|    614|   1091|         1|\n| 3369|    Men Brown Sandal|   3.9|      Men|Flipkart|     1499|       76|        12|     35|     17|     11|      4|      9|         1|\n+-----+--------------------+------+---------+--------+---------+---------+----------+-------+-------+-------+-------+-------+----------+\nonly showing top 20 rows\n\n"
     ]
    }
   ],
   "source": [
    "# Display Products in 'Men' category that are fulfilled\n",
    "\n",
    "flipkart_df.filter((flipkart_df[\"maincateg\"]==\"Men\") & (flipkart_df[\"fulfilled1\"]==1)).show()"
   ]
  },
  {
   "cell_type": "code",
   "execution_count": 0,
   "metadata": {
    "application/vnd.databricks.v1+cell": {
     "cellMetadata": {
      "byteLimit": 2048000,
      "rowLimit": 10000
     },
     "inputWidgets": {},
     "nuid": "1be257d2-da3f-4ae7-b1ff-42ef6c42c3d3",
     "showTitle": false,
     "tableResultSettingsMap": {},
     "title": ""
    }
   },
   "outputs": [
    {
     "output_type": "stream",
     "name": "stdout",
     "output_type": "stream",
     "text": [
      "+---------+------------+\n|maincateg|count(title)|\n+---------+------------+\n|     null|          67|\n|      Men|        2145|\n|    Women|        3032|\n+---------+------------+\n\n"
     ]
    }
   ],
   "source": [
    "# Dsiplay number of products per category\n",
    "from pyspark.sql.functions import count\n",
    "flipkart_df.groupBy(\"maincateg\").agg(count(\"title\")).show()"
   ]
  },
  {
   "cell_type": "code",
   "execution_count": 0,
   "metadata": {
    "application/vnd.databricks.v1+cell": {
     "cellMetadata": {
      "byteLimit": 2048000,
      "rowLimit": 10000
     },
     "inputWidgets": {},
     "nuid": "93ff00c4-69d0-46ba-ad68-3c43aaffadcc",
     "showTitle": false,
     "tableResultSettingsMap": {},
     "title": ""
    }
   },
   "outputs": [
    {
     "output_type": "stream",
     "name": "stdout",
     "output_type": "stream",
     "text": [
      "+---------+------------------+\n|maincateg|       avg(Rating)|\n+---------+------------------+\n|     null|             4.225|\n|      Men|3.9662970106075246|\n|    Women|4.0416582064297915|\n+---------+------------------+\n\n"
     ]
    }
   ],
   "source": [
    "# Display Average rating per category\n",
    "from pyspark.sql.functions import avg\n",
    "flipkart_df.groupBy(\"maincateg\").agg(avg(\"Rating\")).show()\n"
   ]
  },
  {
   "cell_type": "code",
   "execution_count": 0,
   "metadata": {
    "application/vnd.databricks.v1+cell": {
     "cellMetadata": {
      "byteLimit": 2048000,
      "rowLimit": 10000
     },
     "inputWidgets": {},
     "nuid": "0cdf490d-3760-4c51-ad65-a4178ffab849",
     "showTitle": false,
     "tableResultSettingsMap": {},
     "title": ""
    }
   },
   "outputs": [
    {
     "output_type": "stream",
     "name": "stdout",
     "output_type": "stream",
     "text": [
      "+---------+-----------------+\n|maincateg|   avg of reviews|\n+---------+-----------------+\n|      Men|759.6554778554779|\n+---------+-----------------+\nonly showing top 1 row\n\n"
     ]
    }
   ],
   "source": [
    "# Dsiplay Category with highest average number of reviews\n",
    "from pyspark.sql.functions import avg\n",
    "flipkart_df.groupBy(\"maincateg\").agg(avg(\"noreviews1\").alias(\"avg of reviews\")).orderBy(\"avg of reviews\",ascending=False).show(1)\n"
   ]
  },
  {
   "cell_type": "code",
   "execution_count": 0,
   "metadata": {
    "application/vnd.databricks.v1+cell": {
     "cellMetadata": {
      "byteLimit": 2048000,
      "rowLimit": 10000
     },
     "inputWidgets": {},
     "nuid": "b4272bbe-8813-4eaf-a55d-35c01d621e30",
     "showTitle": false,
     "tableResultSettingsMap": {},
     "title": ""
    }
   },
   "outputs": [
    {
     "output_type": "stream",
     "name": "stdout",
     "output_type": "stream",
     "text": [
      "+--------------------+---------+\n|               title|actprice1|\n+--------------------+---------+\n|GEL-QUANTUM 360 K...|    15999|\n|Women Orange Spor...|    12999|\n|Hybrid Astro Runn...|    10999|\n|GT-2000 5 (D) Run...|    10999|\n|DEERUPT RUNNER W ...|     9999|\n+--------------------+---------+\nonly showing top 5 rows\n\n"
     ]
    }
   ],
   "source": [
    "# Top 5 products with highest price. display product name and price\n",
    "\n",
    "flipkart_df.select(\"title\",\"actprice1\").orderBy(\"actprice1\",ascending=False).show(5)"
   ]
  },
  {
   "cell_type": "code",
   "execution_count": 0,
   "metadata": {
    "application/vnd.databricks.v1+cell": {
     "cellMetadata": {
      "byteLimit": 2048000,
      "rowLimit": 10000
     },
     "inputWidgets": {},
     "nuid": "9353cba2-7ba1-4189-841a-84ed79cdec43",
     "showTitle": false,
     "tableResultSettingsMap": {},
     "title": ""
    }
   },
   "outputs": [
    {
     "output_type": "stream",
     "name": "stdout",
     "output_type": "stream",
     "text": [
      "+---------+---------+---------+------------------+\n|maincateg|Min Price|Max Price|     Average Price|\n+---------+---------+---------+------------------+\n|     null|      499|     5999|1574.7313432835822|\n|      Men|      139|    10999|  1455.86013986014|\n|    Women|      162|    15999|1319.7081134564644|\n+---------+---------+---------+------------------+\n\n"
     ]
    }
   ],
   "source": [
    "# Display Min, max, and avg price per category\n",
    "from pyspark.sql.functions import min, max, avg\n",
    "\n",
    "flipkart_df.groupBy(\"maincateg\").agg(\n",
    "    min(\"actprice1\").alias(\"Min Price\"),\n",
    "    max(\"actprice1\").alias(\"Max Price\"),\n",
    "    avg(\"actprice1\").alias(\"Average Price\")\n",
    ").show()\n"
   ]
  },
  {
   "cell_type": "code",
   "execution_count": 0,
   "metadata": {
    "application/vnd.databricks.v1+cell": {
     "cellMetadata": {
      "byteLimit": 2048000,
      "rowLimit": 10000
     },
     "inputWidgets": {},
     "nuid": "c51e0a9a-e452-41b2-9405-308d4e18f746",
     "showTitle": false,
     "tableResultSettingsMap": {},
     "title": ""
    }
   },
   "outputs": [
    {
     "output_type": "stream",
     "name": "stdout",
     "output_type": "stream",
     "text": [
      "+---+-----+------+---------+--------+---------+---------+----------+-------+-------+-------+-------+-------+----------+\n| id|title|Rating|maincateg|platform|actprice1|norating1|noreviews1|star_5f|star_4f|star_3f|star_2f|star_1f|fulfilled1|\n+---+-----+------+---------+--------+---------+---------+----------+-------+-------+-------+-------+-------+----------+\n|  0|    0|   203|       67|       0|        0|        0|         0|     68|      0|      0|      0|    186|         0|\n+---+-----+------+---------+--------+---------+---------+----------+-------+-------+-------+-------+-------+----------+\n\n"
     ]
    }
   ],
   "source": [
    "# Display number of nulls in each column\n",
    "\n",
    "from pyspark.sql.functions import col, sum, when\n",
    "\n",
    "# Count nulls for each column\n",
    "null_counts = flipkart_df.select([\n",
    "    sum(when(col(c).isNull(), 1).otherwise(0)).alias(c)\n",
    "    for c in flipkart_df.columns\n",
    "])\n",
    "\n",
    "null_counts.show()\n"
   ]
  },
  {
   "cell_type": "code",
   "execution_count": 0,
   "metadata": {
    "application/vnd.databricks.v1+cell": {
     "cellMetadata": {
      "byteLimit": 2048000,
      "rowLimit": 10000
     },
     "inputWidgets": {},
     "nuid": "c8c8a3b3-3917-4e67-a0a2-0afebfcc4736",
     "showTitle": false,
     "tableResultSettingsMap": {},
     "title": ""
    }
   },
   "outputs": [
    {
     "output_type": "stream",
     "name": "stdout",
     "output_type": "stream",
     "text": [
      "+---------+---------------+-----------------+\n|maincateg|Fulfilled Count|Unfulfilled Count|\n+---------+---------------+-----------------+\n|     null|             40|               27|\n|      Men|           1352|              793|\n|    Women|           1778|             1254|\n+---------+---------------+-----------------+\n\n"
     ]
    }
   ],
   "source": [
    "#calaculate and display the category name ,number of fullfilled, number of unfulilled\n",
    "from pyspark.sql.functions import count, when\n",
    "\n",
    "flipkart_df.groupBy(\"maincateg\").agg(\n",
    "    \n",
    "    count(when(flipkart_df[\"fulfilled1\"] == 1, True)).alias(\"Fulfilled Count\"),\n",
    "    count(when(flipkart_df[\"fulfilled1\"] == 0, True)).alias(\"Unfulfilled Count\")\n",
    ").show()\n"
   ]
  },
  {
   "cell_type": "code",
   "execution_count": 0,
   "metadata": {
    "application/vnd.databricks.v1+cell": {
     "cellMetadata": {
      "byteLimit": 2048000,
      "rowLimit": 10000
     },
     "inputWidgets": {},
     "nuid": "a3415a3d-43c4-4e6a-acc7-e6afe16276da",
     "showTitle": false,
     "tableResultSettingsMap": {},
     "title": ""
    }
   },
   "outputs": [
    {
     "output_type": "stream",
     "name": "stdout",
     "output_type": "stream",
     "text": [
      "+---------+------------+\n|maincateg|count(title)|\n+---------+------------+\n|     null|          67|\n|      Men|        2145|\n|    Women|        3032|\n+---------+------------+\n\n"
     ]
    }
   ],
   "source": [
    "# Display Count of products per category\n",
    "\n",
    "flipkart_df.groupBy(\"maincateg\").agg(count(\"title\")).show()"
   ]
  },
  {
   "cell_type": "code",
   "execution_count": 0,
   "metadata": {
    "application/vnd.databricks.v1+cell": {
     "cellMetadata": {
      "byteLimit": 2048000,
      "rowLimit": 10000
     },
     "inputWidgets": {},
     "nuid": "85467739-d609-44d2-b40f-0e7b6657bea1",
     "showTitle": false,
     "tableResultSettingsMap": {},
     "title": ""
    }
   },
   "outputs": [
    {
     "output_type": "stream",
     "name": "stdout",
     "output_type": "stream",
     "text": [
      "+---------+------------------+\n|maincateg|       avg(Rating)|\n+---------+------------------+\n|     null|             4.225|\n|      Men|3.9662970106075246|\n|    Women|4.0416582064297915|\n+---------+------------------+\n\n"
     ]
    }
   ],
   "source": [
    "# Display Average rating per category\n",
    "from pyspark.sql.functions import avg\n",
    "flipkart_df.groupBy(\"maincateg\").agg(avg(\"Rating\")).show()\n"
   ]
  },
  {
   "cell_type": "code",
   "execution_count": 0,
   "metadata": {
    "application/vnd.databricks.v1+cell": {
     "cellMetadata": {
      "byteLimit": 2048000,
      "rowLimit": 10000
     },
     "inputWidgets": {},
     "nuid": "6eba27e0-bc8a-46df-9bed-4453f6ed45c5",
     "showTitle": false,
     "tableResultSettingsMap": {},
     "title": ""
    }
   },
   "outputs": [
    {
     "output_type": "stream",
     "name": "stdout",
     "output_type": "stream",
     "text": [
      "+---------+-----------------+\n|maincateg|   avg of reviews|\n+---------+-----------------+\n|      Men|759.6554778554779|\n+---------+-----------------+\nonly showing top 1 row\n\n"
     ]
    }
   ],
   "source": [
    "# Dsiplay Category with highest average number of reviews\n",
    "from pyspark.sql.functions import avg\n",
    "flipkart_df.groupBy(\"maincateg\").agg(avg(\"noreviews1\").alias(\"avg of reviews\")).orderBy(\"avg of reviews\",ascending=False).show(1)\n"
   ]
  },
  {
   "cell_type": "code",
   "execution_count": 0,
   "metadata": {
    "application/vnd.databricks.v1+cell": {
     "cellMetadata": {
      "byteLimit": 2048000,
      "rowLimit": 10000
     },
     "inputWidgets": {},
     "nuid": "c001b8e8-6be4-4119-9a78-70778d6924d5",
     "showTitle": false,
     "tableResultSettingsMap": {},
     "title": ""
    }
   },
   "outputs": [
    {
     "output_type": "display_data",
     "data": {
      "text/html": [
       "<style scoped>\n",
       "  .table-result-container {\n",
       "    max-height: 300px;\n",
       "    overflow: auto;\n",
       "  }\n",
       "  table, th, td {\n",
       "    border: 1px solid black;\n",
       "    border-collapse: collapse;\n",
       "  }\n",
       "  th, td {\n",
       "    padding: 5px;\n",
       "  }\n",
       "  th {\n",
       "    text-align: left;\n",
       "  }\n",
       "</style><div class='table-result-container'><table class='table-result'><thead style='background-color: white'><tr><th>maincateg</th><th>count(title)</th></tr></thead><tbody><tr><td>Men</td><td>2062</td></tr><tr><td>Women</td><td>2932</td></tr></tbody></table></div>"
      ]
     },
     "metadata": {
      "application/vnd.databricks.v1+output": {
       "addedWidgets": {},
       "aggData": [],
       "aggError": "",
       "aggOverflow": false,
       "aggSchema": [],
       "aggSeriesLimitReached": false,
       "aggType": "",
       "arguments": {},
       "columnCustomDisplayInfos": {},
       "data": [
        [
         "Men",
         2062
        ],
        [
         "Women",
         2932
        ]
       ],
       "datasetInfos": [],
       "dbfsResultPath": null,
       "isJsonSchema": true,
       "metadata": {},
       "overflow": false,
       "plotOptions": {
        "customPlotOptions": {},
        "displayType": "table",
        "pivotAggregation": null,
        "pivotColumns": null,
        "xColumns": null,
        "yColumns": null
       },
       "removedWidgets": [],
       "schema": [
        {
         "metadata": "{}",
         "name": "maincateg",
         "type": "\"string\""
        },
        {
         "metadata": "{}",
         "name": "count(title)",
         "type": "\"long\""
        }
       ],
       "type": "table"
      }
     },
     "output_type": "display_data"
    },
    {
     "output_type": "display_data",
     "data": {
      "text/plain": [
       "Databricks visualization. Run in Databricks to view."
      ]
     },
     "metadata": {
      "application/vnd.databricks.v1.subcommand+json": {
       "baseErrorDetails": null,
       "bindings": {},
       "collapsed": false,
       "command": "%python\n__backend_agg_display_orig = display\n__backend_agg_dfs = []\ndef __backend_agg_display_new(df):\n    __backend_agg_df_modules = [\"pandas.core.frame\", \"databricks.koalas.frame\", \"pyspark.sql.dataframe\", \"pyspark.pandas.frame\", \"pyspark.sql.connect.dataframe\"]\n    if (type(df).__module__ in __backend_agg_df_modules and type(df).__name__ == 'DataFrame') or isinstance(df, list):\n        __backend_agg_dfs.append(df)\n\ndisplay = __backend_agg_display_new\n\ndef __backend_agg_user_code_fn():\n    import base64\n    exec(base64.standard_b64decode(\"IyBEaXNwbGF5IEJhciBjaGFydCBvZiBwcm9kdWN0IGNvdW50IHBlciBjYXRlZ29yeQoKIyBVc2UgRGF0YWJyaWNrcyBVSSB0byB2aXN1YWxpemUgdGhpcyBhcyBhIGJhciBjaGFydApuZXdkZj1mbGlwa2FydF9kZi5kcm9wbmEoKQpkaXNwbGF5KG5ld2RmLmdyb3VwQnkoIm1haW5jYXRlZyIpLmFnZyhjb3VudCgidGl0bGUiKSkpCg==\").decode())\n\ntry:\n    # run user code\n    __backend_agg_user_code_fn()\n\n    #reset display function\n    display = __backend_agg_display_orig\n\n    if len(__backend_agg_dfs) > 0:\n        # create a temp view\n        if type(__backend_agg_dfs[0]).__module__ == \"databricks.koalas.frame\":\n            # koalas dataframe\n            __backend_agg_dfs[0].to_spark().createOrReplaceTempView(\"DatabricksView92b04fd\")\n        elif type(__backend_agg_dfs[0]).__module__ == \"pandas.core.frame\" or isinstance(__backend_agg_dfs[0], list):\n            # pandas dataframe\n            spark.createDataFrame(__backend_agg_dfs[0]).createOrReplaceTempView(\"DatabricksView92b04fd\")\n        else:\n            __backend_agg_dfs[0].createOrReplaceTempView(\"DatabricksView92b04fd\")\n        #run backend agg\n        display(spark.sql(\"\"\"WITH q AS (select * from DatabricksView92b04fd) SELECT `maincateg`,SUM(`count(title)`) `column_8baf049d227` FROM q GROUP BY `maincateg`\"\"\"))\n    else:\n        displayHTML(\"dataframe no longer exists. If you're using dataframe.display(), use display(dataframe) instead.\")\n\n\nfinally:\n    spark.sql(\"drop view if exists DatabricksView92b04fd\")\n    display = __backend_agg_display_orig\n    del __backend_agg_display_new\n    del __backend_agg_display_orig\n    del __backend_agg_dfs\n    del __backend_agg_user_code_fn\n\n",
       "commandTitle": "Visualization 2",
       "commandType": "auto",
       "commandVersion": 0,
       "commentThread": [],
       "commentsVisible": false,
       "contentSha256Hex": null,
       "customPlotOptions": {
        "redashChart": [
         {
          "key": "type",
          "value": "CHART"
         },
         {
          "key": "options",
          "value": {
           "alignYAxesAtZero": true,
           "coefficient": 1,
           "columnConfigurationMap": {
            "x": {
             "column": "maincateg",
             "id": "column_8baf049d226"
            },
            "y": [
             {
              "column": "count(title)",
              "id": "column_8baf049d227",
              "transform": "SUM"
             }
            ]
           },
           "dateTimeFormat": "DD/MM/YYYY HH:mm",
           "direction": {
            "type": "counterclockwise"
           },
           "error_y": {
            "type": "data",
            "visible": true
           },
           "globalSeriesType": "column",
           "isAggregationOn": true,
           "legend": {
            "traceorder": "normal"
           },
           "missingValuesAsZero": true,
           "numberFormat": "0,0.[00000]",
           "percentFormat": "0[.]00%",
           "series": {
            "error_y": {
             "type": "data",
             "visible": true
            },
            "stacking": null
           },
           "seriesOptions": {
            "column_8baf049d227": {
             "name": "count(title)",
             "yAxis": 0
            }
           },
           "showDataLabels": false,
           "sizemode": "diameter",
           "sortX": true,
           "sortY": true,
           "swappedAxes": false,
           "textFormat": "",
           "useAggregationsUi": true,
           "valuesOptions": {},
           "version": 2,
           "xAxis": {
            "labels": {
             "enabled": true
            },
            "type": "-"
           },
           "yAxis": [
            {
             "type": "-"
            },
            {
             "opposite": true,
             "type": "-"
            }
           ]
          }
         }
        ]
       },
       "datasetPreviewNameToCmdIdMap": {},
       "diffDeletes": [],
       "diffInserts": [],
       "displayType": "redashChart",
       "error": null,
       "errorDetails": null,
       "errorSummary": null,
       "errorTraceType": null,
       "finishTime": 0,
       "globalVars": {},
       "guid": "",
       "height": "auto",
       "hideCommandCode": false,
       "hideCommandResult": false,
       "iPythonMetadata": null,
       "inputWidgets": {},
       "isLockedInExamMode": false,
       "latestUser": "a user",
       "latestUserId": null,
       "listResultMetadata": null,
       "metadata": {},
       "nuid": "cfea48b2-e2b2-4bc6-ad8c-7b686b03c0b2",
       "origId": 0,
       "parentHierarchy": [],
       "pivotAggregation": null,
       "pivotColumns": null,
       "position": 20.0,
       "resultDbfsErrorMessage": null,
       "resultDbfsStatus": "INLINED_IN_TREE",
       "results": null,
       "showCommandTitle": false,
       "startTime": 0,
       "state": "input",
       "streamStates": {},
       "subcommandOptions": {
        "queryPlan": {
         "groups": [
          {
           "column": "maincateg",
           "type": "column"
          }
         ],
         "selects": [
          {
           "column": "maincateg",
           "type": "column"
          },
          {
           "alias": "column_8baf049d227",
           "args": [
            {
             "column": "count(title)",
             "type": "column"
            }
           ],
           "function": "SUM",
           "type": "function"
          }
         ]
        }
       },
       "submitTime": 0,
       "subtype": "tableResultSubCmd.visualization",
       "tableResultIndex": 0,
       "tableResultSettingsMap": {},
       "useConsistentColors": false,
       "version": "CommandV1",
       "width": "auto",
       "workflows": [],
       "xColumns": null,
       "yColumns": null
      }
     },
     "output_type": "display_data"
    }
   ],
   "source": [
    "# Display Bar chart of product count per category\n",
    "\n",
    "# Use Databricks UI to visualize this as a bar chart\n",
    "newdf=flipkart_df.dropna()\n",
    "display(newdf.groupBy(\"maincateg\").agg(count(\"title\")))\n"
   ]
  },
  {
   "cell_type": "code",
   "execution_count": 0,
   "metadata": {
    "application/vnd.databricks.v1+cell": {
     "cellMetadata": {
      "byteLimit": 2048000,
      "rowLimit": 10000
     },
     "inputWidgets": {},
     "nuid": "65523498-d55d-4d54-ad4c-176710c38055",
     "showTitle": false,
     "tableResultSettingsMap": {},
     "title": ""
    }
   },
   "outputs": [
    {
     "output_type": "display_data",
     "data": {
      "text/html": [
       "<style scoped>\n",
       "  .table-result-container {\n",
       "    max-height: 300px;\n",
       "    overflow: auto;\n",
       "  }\n",
       "  table, th, td {\n",
       "    border: 1px solid black;\n",
       "    border-collapse: collapse;\n",
       "  }\n",
       "  th, td {\n",
       "    padding: 5px;\n",
       "  }\n",
       "  th {\n",
       "    text-align: left;\n",
       "  }\n",
       "</style><div class='table-result-container'><table class='table-result'><thead style='background-color: white'><tr><th>maincateg</th><th>avg(Rating)</th></tr></thead><tbody><tr><td>Men</td><td>3.967410281280314</td></tr><tr><td>Women</td><td>4.041507503410653</td></tr></tbody></table></div>"
      ]
     },
     "metadata": {
      "application/vnd.databricks.v1+output": {
       "addedWidgets": {},
       "aggData": [],
       "aggError": "",
       "aggOverflow": false,
       "aggSchema": [],
       "aggSeriesLimitReached": false,
       "aggType": "",
       "arguments": {},
       "columnCustomDisplayInfos": {},
       "data": [
        [
         "Men",
         3.967410281280314
        ],
        [
         "Women",
         4.041507503410653
        ]
       ],
       "datasetInfos": [],
       "dbfsResultPath": null,
       "isJsonSchema": true,
       "metadata": {},
       "overflow": false,
       "plotOptions": {
        "customPlotOptions": {},
        "displayType": "table",
        "pivotAggregation": null,
        "pivotColumns": null,
        "xColumns": null,
        "yColumns": null
       },
       "removedWidgets": [],
       "schema": [
        {
         "metadata": "{}",
         "name": "maincateg",
         "type": "\"string\""
        },
        {
         "metadata": "{}",
         "name": "avg(Rating)",
         "type": "\"double\""
        }
       ],
       "type": "table"
      }
     },
     "output_type": "display_data"
    },
    {
     "output_type": "display_data",
     "data": {
      "text/plain": [
       "Databricks visualization. Run in Databricks to view."
      ]
     },
     "metadata": {
      "application/vnd.databricks.v1.subcommand+json": {
       "baseErrorDetails": null,
       "bindings": {},
       "collapsed": false,
       "command": "%python\n__backend_agg_display_orig = display\n__backend_agg_dfs = []\ndef __backend_agg_display_new(df):\n    __backend_agg_df_modules = [\"pandas.core.frame\", \"databricks.koalas.frame\", \"pyspark.sql.dataframe\", \"pyspark.pandas.frame\", \"pyspark.sql.connect.dataframe\"]\n    if (type(df).__module__ in __backend_agg_df_modules and type(df).__name__ == 'DataFrame') or isinstance(df, list):\n        __backend_agg_dfs.append(df)\n\ndisplay = __backend_agg_display_new\n\ndef __backend_agg_user_code_fn():\n    import base64\n    exec(base64.standard_b64decode(\"IyBCYXIgY2hhcnQgb2YgYXZlcmFnZSByYXRpbmcgcGVyIGNhdGVnb3J5CmZyb20gcHlzcGFyay5zcWwuZnVuY3Rpb25zIGltcG9ydCBhdmcKbmV3ZGY9ZmxpcGthcnRfZGYuZHJvcG5hKCkKZGlzcGxheShuZXdkZi5ncm91cEJ5KCJtYWluY2F0ZWciKS5hZ2coYXZnKCJSYXRpbmciKSkp\").decode())\n\ntry:\n    # run user code\n    __backend_agg_user_code_fn()\n\n    #reset display function\n    display = __backend_agg_display_orig\n\n    if len(__backend_agg_dfs) > 0:\n        # create a temp view\n        if type(__backend_agg_dfs[0]).__module__ == \"databricks.koalas.frame\":\n            # koalas dataframe\n            __backend_agg_dfs[0].to_spark().createOrReplaceTempView(\"DatabricksView0ad8eca\")\n        elif type(__backend_agg_dfs[0]).__module__ == \"pandas.core.frame\" or isinstance(__backend_agg_dfs[0], list):\n            # pandas dataframe\n            spark.createDataFrame(__backend_agg_dfs[0]).createOrReplaceTempView(\"DatabricksView0ad8eca\")\n        else:\n            __backend_agg_dfs[0].createOrReplaceTempView(\"DatabricksView0ad8eca\")\n        #run backend agg\n        display(spark.sql(\"\"\"WITH q AS (select * from DatabricksView0ad8eca) SELECT `maincateg`,SUM(`avg(Rating)`) `column_8baf049d236` FROM q GROUP BY `maincateg`\"\"\"))\n    else:\n        displayHTML(\"dataframe no longer exists. If you're using dataframe.display(), use display(dataframe) instead.\")\n\n\nfinally:\n    spark.sql(\"drop view if exists DatabricksView0ad8eca\")\n    display = __backend_agg_display_orig\n    del __backend_agg_display_new\n    del __backend_agg_display_orig\n    del __backend_agg_dfs\n    del __backend_agg_user_code_fn\n\n",
       "commandTitle": "Visualization 1",
       "commandType": "auto",
       "commandVersion": 0,
       "commentThread": [],
       "commentsVisible": false,
       "contentSha256Hex": null,
       "customPlotOptions": {
        "redashChart": [
         {
          "key": "type",
          "value": "CHART"
         },
         {
          "key": "options",
          "value": {
           "alignYAxesAtZero": true,
           "coefficient": 1,
           "columnConfigurationMap": {
            "x": {
             "column": "maincateg",
             "id": "column_8baf049d235"
            },
            "y": [
             {
              "column": "avg(Rating)",
              "id": "column_8baf049d236",
              "transform": "SUM"
             }
            ]
           },
           "dateTimeFormat": "DD/MM/YYYY HH:mm",
           "direction": {
            "type": "counterclockwise"
           },
           "error_y": {
            "type": "data",
            "visible": true
           },
           "globalSeriesType": "column",
           "isAggregationOn": true,
           "legend": {
            "traceorder": "normal"
           },
           "missingValuesAsZero": true,
           "numberFormat": "0,0.[00000]",
           "percentFormat": "0[.]00%",
           "series": {
            "error_y": {
             "type": "data",
             "visible": true
            },
            "stacking": null
           },
           "seriesOptions": {
            "column_8baf049d236": {
             "name": "avg(Rating)",
             "yAxis": 0
            }
           },
           "showDataLabels": false,
           "sizemode": "diameter",
           "sortX": true,
           "sortY": true,
           "swappedAxes": false,
           "textFormat": "",
           "useAggregationsUi": true,
           "valuesOptions": {},
           "version": 2,
           "xAxis": {
            "labels": {
             "enabled": true
            },
            "type": "-"
           },
           "yAxis": [
            {
             "type": "-"
            },
            {
             "opposite": true,
             "type": "-"
            }
           ]
          }
         }
        ]
       },
       "datasetPreviewNameToCmdIdMap": {},
       "diffDeletes": [],
       "diffInserts": [],
       "displayType": "redashChart",
       "error": null,
       "errorDetails": null,
       "errorSummary": null,
       "errorTraceType": null,
       "finishTime": 0,
       "globalVars": {},
       "guid": "",
       "height": "auto",
       "hideCommandCode": false,
       "hideCommandResult": false,
       "iPythonMetadata": null,
       "inputWidgets": {},
       "isLockedInExamMode": false,
       "latestUser": "a user",
       "latestUserId": null,
       "listResultMetadata": null,
       "metadata": {},
       "nuid": "f96a7fe9-39e8-46a7-b4f4-65b991553588",
       "origId": 0,
       "parentHierarchy": [],
       "pivotAggregation": null,
       "pivotColumns": null,
       "position": 21.0,
       "resultDbfsErrorMessage": null,
       "resultDbfsStatus": "INLINED_IN_TREE",
       "results": null,
       "showCommandTitle": false,
       "startTime": 0,
       "state": "input",
       "streamStates": {},
       "subcommandOptions": {
        "queryPlan": {
         "groups": [
          {
           "column": "maincateg",
           "type": "column"
          }
         ],
         "selects": [
          {
           "column": "maincateg",
           "type": "column"
          },
          {
           "alias": "column_8baf049d236",
           "args": [
            {
             "column": "avg(Rating)",
             "type": "column"
            }
           ],
           "function": "SUM",
           "type": "function"
          }
         ]
        }
       },
       "submitTime": 0,
       "subtype": "tableResultSubCmd.visualization",
       "tableResultIndex": 0,
       "tableResultSettingsMap": {},
       "useConsistentColors": false,
       "version": "CommandV1",
       "width": "auto",
       "workflows": [],
       "xColumns": null,
       "yColumns": null
      }
     },
     "output_type": "display_data"
    }
   ],
   "source": [
    "# Bar chart of average rating per category\n",
    "from pyspark.sql.functions import avg\n",
    "newdf=flipkart_df.dropna()\n",
    "display(newdf.groupBy(\"maincateg\").agg(avg(\"Rating\")))"
   ]
  },
  {
   "cell_type": "code",
   "execution_count": 0,
   "metadata": {
    "application/vnd.databricks.v1+cell": {
     "cellMetadata": {
      "byteLimit": 2048000,
      "rowLimit": 10000
     },
     "inputWidgets": {},
     "nuid": "15834ac3-ae46-4f29-b638-331b68d137f1",
     "showTitle": false,
     "tableResultSettingsMap": {},
     "title": ""
    }
   },
   "outputs": [
    {
     "output_type": "display_data",
     "data": {
      "text/html": [
       "<style scoped>\n",
       "  .table-result-container {\n",
       "    max-height: 300px;\n",
       "    overflow: auto;\n",
       "  }\n",
       "  table, th, td {\n",
       "    border: 1px solid black;\n",
       "    border-collapse: collapse;\n",
       "  }\n",
       "  th, td {\n",
       "    padding: 5px;\n",
       "  }\n",
       "  th {\n",
       "    text-align: left;\n",
       "  }\n",
       "</style><div class='table-result-container'><table class='table-result'><thead style='background-color: white'><tr><th>maincateg</th><th>sum(noreviews1)</th></tr></thead><tbody><tr><td>Men</td><td>1543836</td></tr><tr><td>Women</td><td>505578</td></tr></tbody></table></div>"
      ]
     },
     "metadata": {
      "application/vnd.databricks.v1+output": {
       "addedWidgets": {},
       "aggData": [],
       "aggError": "",
       "aggOverflow": false,
       "aggSchema": [],
       "aggSeriesLimitReached": false,
       "aggType": "",
       "arguments": {},
       "columnCustomDisplayInfos": {},
       "data": [
        [
         "Men",
         1543836
        ],
        [
         "Women",
         505578
        ]
       ],
       "datasetInfos": [],
       "dbfsResultPath": null,
       "isJsonSchema": true,
       "metadata": {},
       "overflow": false,
       "plotOptions": {
        "customPlotOptions": {},
        "displayType": "table",
        "pivotAggregation": null,
        "pivotColumns": null,
        "xColumns": null,
        "yColumns": null
       },
       "removedWidgets": [],
       "schema": [
        {
         "metadata": "{}",
         "name": "maincateg",
         "type": "\"string\""
        },
        {
         "metadata": "{}",
         "name": "sum(noreviews1)",
         "type": "\"long\""
        }
       ],
       "type": "table"
      }
     },
     "output_type": "display_data"
    },
    {
     "output_type": "display_data",
     "data": {
      "text/plain": [
       "Databricks visualization. Run in Databricks to view."
      ]
     },
     "metadata": {
      "application/vnd.databricks.v1.subcommand+json": {
       "baseErrorDetails": null,
       "bindings": {},
       "collapsed": false,
       "command": "%python\n__backend_agg_display_orig = display\n__backend_agg_dfs = []\ndef __backend_agg_display_new(df):\n    __backend_agg_df_modules = [\"pandas.core.frame\", \"databricks.koalas.frame\", \"pyspark.sql.dataframe\", \"pyspark.pandas.frame\", \"pyspark.sql.connect.dataframe\"]\n    if (type(df).__module__ in __backend_agg_df_modules and type(df).__name__ == 'DataFrame') or isinstance(df, list):\n        __backend_agg_dfs.append(df)\n\ndisplay = __backend_agg_display_new\n\ndef __backend_agg_user_code_fn():\n    import base64\n    exec(base64.standard_b64decode(\"IyBEaXNwbGF5IEJhciBjaGFydCBvZiB0b3RhbCBudW1iZXIgb2YgcmV2aWV3cyBwZXIgY2F0ZWdvcnkKZnJvbSBweXNwYXJrLnNxbC5mdW5jdGlvbnMgaW1wb3J0IHN1bQpuZXdkZj1mbGlwa2FydF9kZi5kcm9wbmEoKQpkaXNwbGF5KG5ld2RmLmdyb3VwQnkoIm1haW5jYXRlZyIpLmFnZyhzdW0oIm5vcmV2aWV3czEiKSkp\").decode())\n\ntry:\n    # run user code\n    __backend_agg_user_code_fn()\n\n    #reset display function\n    display = __backend_agg_display_orig\n\n    if len(__backend_agg_dfs) > 0:\n        # create a temp view\n        if type(__backend_agg_dfs[0]).__module__ == \"databricks.koalas.frame\":\n            # koalas dataframe\n            __backend_agg_dfs[0].to_spark().createOrReplaceTempView(\"DatabricksView194df2b\")\n        elif type(__backend_agg_dfs[0]).__module__ == \"pandas.core.frame\" or isinstance(__backend_agg_dfs[0], list):\n            # pandas dataframe\n            spark.createDataFrame(__backend_agg_dfs[0]).createOrReplaceTempView(\"DatabricksView194df2b\")\n        else:\n            __backend_agg_dfs[0].createOrReplaceTempView(\"DatabricksView194df2b\")\n        #run backend agg\n        display(spark.sql(\"\"\"WITH q AS (select * from DatabricksView194df2b) SELECT `maincateg`,SUM(`sum(noreviews1)`) `column_8baf049d245` FROM q GROUP BY `maincateg`\"\"\"))\n    else:\n        displayHTML(\"dataframe no longer exists. If you're using dataframe.display(), use display(dataframe) instead.\")\n\n\nfinally:\n    spark.sql(\"drop view if exists DatabricksView194df2b\")\n    display = __backend_agg_display_orig\n    del __backend_agg_display_new\n    del __backend_agg_display_orig\n    del __backend_agg_dfs\n    del __backend_agg_user_code_fn\n\n",
       "commandTitle": "Visualization 1",
       "commandType": "auto",
       "commandVersion": 0,
       "commentThread": [],
       "commentsVisible": false,
       "contentSha256Hex": null,
       "customPlotOptions": {
        "redashChart": [
         {
          "key": "type",
          "value": "CHART"
         },
         {
          "key": "options",
          "value": {
           "alignYAxesAtZero": true,
           "coefficient": 1,
           "columnConfigurationMap": {
            "x": {
             "column": "maincateg",
             "id": "column_8baf049d244"
            },
            "y": [
             {
              "column": "sum(noreviews1)",
              "id": "column_8baf049d245",
              "transform": "SUM"
             }
            ]
           },
           "dateTimeFormat": "DD/MM/YYYY HH:mm",
           "direction": {
            "type": "counterclockwise"
           },
           "error_y": {
            "type": "data",
            "visible": true
           },
           "globalSeriesType": "column",
           "isAggregationOn": true,
           "legend": {
            "traceorder": "normal"
           },
           "missingValuesAsZero": true,
           "numberFormat": "0,0.[00000]",
           "percentFormat": "0[.]00%",
           "series": {
            "error_y": {
             "type": "data",
             "visible": true
            },
            "stacking": null
           },
           "seriesOptions": {
            "column_8baf049d245": {
             "name": "sum(noreviews1)",
             "yAxis": 0
            }
           },
           "showDataLabels": false,
           "sizemode": "diameter",
           "sortX": true,
           "sortY": true,
           "swappedAxes": false,
           "textFormat": "",
           "useAggregationsUi": true,
           "valuesOptions": {},
           "version": 2,
           "xAxis": {
            "labels": {
             "enabled": true
            },
            "type": "-"
           },
           "yAxis": [
            {
             "type": "-"
            },
            {
             "opposite": true,
             "type": "-"
            }
           ]
          }
         }
        ]
       },
       "datasetPreviewNameToCmdIdMap": {},
       "diffDeletes": [],
       "diffInserts": [],
       "displayType": "redashChart",
       "error": null,
       "errorDetails": null,
       "errorSummary": null,
       "errorTraceType": null,
       "finishTime": 0,
       "globalVars": {},
       "guid": "",
       "height": "auto",
       "hideCommandCode": false,
       "hideCommandResult": false,
       "iPythonMetadata": null,
       "inputWidgets": {},
       "isLockedInExamMode": false,
       "latestUser": "a user",
       "latestUserId": null,
       "listResultMetadata": null,
       "metadata": {},
       "nuid": "bfb44bd4-1ec2-4f96-bf58-8a653eca015a",
       "origId": 0,
       "parentHierarchy": [],
       "pivotAggregation": null,
       "pivotColumns": null,
       "position": 22.0,
       "resultDbfsErrorMessage": null,
       "resultDbfsStatus": "INLINED_IN_TREE",
       "results": null,
       "showCommandTitle": false,
       "startTime": 0,
       "state": "input",
       "streamStates": {},
       "subcommandOptions": {
        "queryPlan": {
         "groups": [
          {
           "column": "maincateg",
           "type": "column"
          }
         ],
         "selects": [
          {
           "column": "maincateg",
           "type": "column"
          },
          {
           "alias": "column_8baf049d245",
           "args": [
            {
             "column": "sum(noreviews1)",
             "type": "column"
            }
           ],
           "function": "SUM",
           "type": "function"
          }
         ]
        }
       },
       "submitTime": 0,
       "subtype": "tableResultSubCmd.visualization",
       "tableResultIndex": 0,
       "tableResultSettingsMap": {},
       "useConsistentColors": false,
       "version": "CommandV1",
       "width": "auto",
       "workflows": [],
       "xColumns": null,
       "yColumns": null
      }
     },
     "output_type": "display_data"
    }
   ],
   "source": [
    "# Display Bar chart of total number of reviews per category\n",
    "from pyspark.sql.functions import sum\n",
    "newdf=flipkart_df.dropna()\n",
    "display(newdf.groupBy(\"maincateg\").agg(sum(\"noreviews1\")))"
   ]
  },
  {
   "cell_type": "code",
   "execution_count": 0,
   "metadata": {
    "application/vnd.databricks.v1+cell": {
     "cellMetadata": {
      "byteLimit": 2048000,
      "rowLimit": 10000
     },
     "inputWidgets": {},
     "nuid": "5f5b6c97-839b-4c3a-a8c5-4533aebf793e",
     "showTitle": false,
     "tableResultSettingsMap": {},
     "title": ""
    }
   },
   "outputs": [
    {
     "output_type": "stream",
     "name": "stdout",
     "output_type": "stream",
     "text": [
      "+--------------------+-----------+\n|               title|max_star_5f|\n+--------------------+-----------+\n|Jio-13 Running Sh...|     151193|\n|Running Shoes For...|     151193|\n|Jio-13 Running Sh...|     151159|\n|VERTIGO BLK RUNNI...|      66369|\n|Cosko Sports Shoe...|      64987|\n|    Men Olive Sandal|      61722|\n|Men Brown, Beige ...|      61722|\n|Oxygen Running Sh...|      55231|\n|Boxer-303 Sneaker...|      54272|\n|Mesh,Cricket, Bad...|      45128|\n|Mesh,Cricket, Bad...|      45128|\n|Mesh,Cricket, Bad...|      45128|\n|Mesh,Cricket, Bad...|      45127|\n|SOCKS Running Sho...|      43374|\n|Running Shoes For...|      42503|\n|Combo Pack of 2 C...|      35264|\n|  SFG-204 Flip Flops|      35161|\n|Climber Boots For...|      33445|\n|Climber Boots For...|      33443|\n|Casuals For Men  ...|      32724|\n+--------------------+-----------+\nonly showing top 20 rows\n\n"
     ]
    }
   ],
   "source": [
    "# Display product name and 5 star rating for those products which have highest 5 star rating\n",
    "\n",
    "from pyspark.sql.functions import max\n",
    "\n",
    "flipkart_df.select(\"title\", \"star_5f\").groupBy(\"title\").agg(max(\"star_5f\").alias(\"max_star_5f\")).orderBy(\"max_star_5f\", ascending=False).show()\n"
   ]
  }
 ],
 "metadata": {
  "application/vnd.databricks.v1+notebook": {
   "computePreferences": null,
   "dashboards": [],
   "environmentMetadata": null,
   "inputWidgetPreferences": null,
   "language": "python",
   "notebookMetadata": {
    "pythonIndentUnit": 4
   },
   "notebookName": "Flipkart_EDA_Assignment",
   "widgets": {}
  },
  "kernelspec": {
   "display_name": "Python 3",
   "language": "python",
   "name": "python3"
  },
  "language_info": {
   "name": "python",
   "version": "3.8"
  }
 },
 "nbformat": 4,
 "nbformat_minor": 0
}